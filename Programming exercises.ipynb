{
 "cells": [
  {
   "cell_type": "markdown",
   "metadata": {},
   "source": [
    "## Fibonacci sequence"
   ]
  },
  {
   "cell_type": "markdown",
   "metadata": {},
   "source": [
    "### Proceedural/iterative method"
   ]
  },
  {
   "cell_type": "code",
   "execution_count": 37,
   "metadata": {
    "collapsed": true
   },
   "outputs": [],
   "source": [
    "def fibp(limit):\n",
    "    a = 0\n",
    "    b = 1\n",
    "    result = 0\n",
    "    for i in range(limit):\n",
    "        c = a + b\n",
    "        a = b\n",
    "        b = c\n",
    "        result = a\n",
    "        \n",
    "    return result\n",
    "        "
   ]
  },
  {
   "cell_type": "code",
   "execution_count": 40,
   "metadata": {
    "collapsed": false
   },
   "outputs": [
    {
     "data": {
      "text/plain": [
       "6765"
      ]
     },
     "execution_count": 40,
     "metadata": {},
     "output_type": "execute_result"
    }
   ],
   "source": [
    "fibp(20)"
   ]
  },
  {
   "cell_type": "markdown",
   "metadata": {},
   "source": [
    "### Pythonic method using a generator"
   ]
  },
  {
   "cell_type": "code",
   "execution_count": 10,
   "metadata": {
    "collapsed": true
   },
   "outputs": [],
   "source": [
    "def fibg():\n",
    "    a, b = 0, 1\n",
    "    while True:\n",
    "        yield a\n",
    "        a, b = b, a + b"
   ]
  },
  {
   "cell_type": "code",
   "execution_count": 11,
   "metadata": {
    "collapsed": false
   },
   "outputs": [
    {
     "name": "stdout",
     "output_type": "stream",
     "text": [
      "0 0\n",
      "1 1\n",
      "2 1\n",
      "3 2\n",
      "4 3\n",
      "5 5\n",
      "6 8\n",
      "7 13\n",
      "8 21\n",
      "9 34\n",
      "10 55\n",
      "11 89\n",
      "12 144\n",
      "13 233\n",
      "14 377\n",
      "15 610\n",
      "16 987\n",
      "17 1597\n",
      "18 2584\n",
      "19 4181\n"
     ]
    }
   ],
   "source": [
    "fib_gen = fibg()\n",
    "for i in range(20):\n",
    "    print i, next(fib_gen)"
   ]
  },
  {
   "cell_type": "markdown",
   "metadata": {},
   "source": [
    "### Recursive"
   ]
  },
  {
   "cell_type": "code",
   "execution_count": 21,
   "metadata": {
    "collapsed": true
   },
   "outputs": [],
   "source": [
    "def fibr(n):\n",
    "    if n == 0:\n",
    "        return 0\n",
    "    elif n == 1:\n",
    "        return 1\n",
    "    else:\n",
    "        return fibr(n - 1) + fibr(n - 2)"
   ]
  },
  {
   "cell_type": "code",
   "execution_count": 29,
   "metadata": {
    "collapsed": false
   },
   "outputs": [
    {
     "data": {
      "text/plain": [
       "6765"
      ]
     },
     "execution_count": 29,
     "metadata": {},
     "output_type": "execute_result"
    }
   ],
   "source": [
    "fibr(20)"
   ]
  },
  {
   "cell_type": "markdown",
   "metadata": {},
   "source": [
    "## Find common integers between two lists"
   ]
  },
  {
   "cell_type": "markdown",
   "metadata": {},
   "source": [
    "### Using Python sets and set intersection operator"
   ]
  },
  {
   "cell_type": "code",
   "execution_count": 3,
   "metadata": {
    "collapsed": true
   },
   "outputs": [],
   "source": [
    "from random import sample"
   ]
  },
  {
   "cell_type": "code",
   "execution_count": 4,
   "metadata": {
    "collapsed": false
   },
   "outputs": [],
   "source": [
    "a = sample(range(20), 10)"
   ]
  },
  {
   "cell_type": "code",
   "execution_count": 5,
   "metadata": {
    "collapsed": true
   },
   "outputs": [],
   "source": [
    "b = sample(range(20), 10)"
   ]
  },
  {
   "cell_type": "code",
   "execution_count": 8,
   "metadata": {
    "collapsed": false
   },
   "outputs": [
    {
     "data": {
      "text/plain": [
       "{0, 9, 11, 18}"
      ]
     },
     "execution_count": 8,
     "metadata": {},
     "output_type": "execute_result"
    }
   ],
   "source": [
    "sa = set(a)\n",
    "sb = set(b)\n",
    "sa - sb"
   ]
  },
  {
   "cell_type": "markdown",
   "metadata": {},
   "source": [
    "## Binary search"
   ]
  },
  {
   "cell_type": "markdown",
   "metadata": {},
   "source": [
    "### Recursive approach using array slicing"
   ]
  },
  {
   "cell_type": "code",
   "execution_count": 20,
   "metadata": {
    "collapsed": false
   },
   "outputs": [],
   "source": [
    "a = sorted(sample(range(1000), 50))"
   ]
  },
  {
   "cell_type": "code",
   "execution_count": 25,
   "metadata": {
    "collapsed": false
   },
   "outputs": [],
   "source": [
    "def bsearch(t, l):\n",
    "    i = len(l) / 2\n",
    "    c = l[i]\n",
    "\n",
    "    if (c == t):\n",
    "        return c, True\n",
    "    elif i < 1:\n",
    "        return c, False\n",
    "    elif (c > t):\n",
    "        return bsearch(t, l[:i])\n",
    "    else:\n",
    "        return bsearch(t, l[i:])"
   ]
  },
  {
   "cell_type": "code",
   "execution_count": 26,
   "metadata": {
    "collapsed": false
   },
   "outputs": [
    {
     "data": {
      "text/plain": [
       "(58, (58, True))"
      ]
     },
     "execution_count": 26,
     "metadata": {},
     "output_type": "execute_result"
    }
   ],
   "source": [
    "a[5], bsearch(a[5], a)"
   ]
  },
  {
   "cell_type": "code",
   "execution_count": 31,
   "metadata": {
    "collapsed": false
   },
   "outputs": [
    {
     "name": "stdout",
     "output_type": "stream",
     "text": [
      "True 13\n",
      "True 14\n",
      "True 38\n",
      "True 39\n",
      "True 49\n",
      "True 58\n",
      "True 60\n",
      "True 89\n",
      "True 128\n",
      "True 140\n",
      "True 149\n",
      "True 158\n",
      "True 164\n",
      "True 173\n",
      "True 256\n",
      "True 323\n",
      "True 327\n",
      "True 341\n",
      "True 344\n",
      "True 359\n",
      "True 395\n",
      "True 440\n",
      "True 441\n",
      "True 453\n",
      "True 455\n",
      "True 488\n",
      "True 533\n",
      "True 538\n",
      "True 633\n",
      "True 646\n",
      "True 652\n",
      "True 668\n",
      "True 691\n",
      "True 694\n",
      "True 750\n",
      "True 770\n",
      "True 786\n",
      "True 791\n",
      "True 799\n",
      "True 802\n",
      "True 811\n",
      "True 818\n",
      "True 828\n",
      "True 829\n",
      "True 852\n",
      "True 923\n",
      "True 975\n",
      "True 990\n",
      "True 995\n",
      "True 997\n"
     ]
    }
   ],
   "source": [
    "for i in a:\n",
    "    if bsearch(i, a)[1] != True:\n",
    "        print False, i\n",
    "    else:\n",
    "        print True, i"
   ]
  },
  {
   "cell_type": "markdown",
   "metadata": {},
   "source": [
    "### Binary search iterative approach with array slicing"
   ]
  },
  {
   "cell_type": "code",
   "execution_count": 32,
   "metadata": {
    "collapsed": false
   },
   "outputs": [],
   "source": [
    "def bsearchi(t, l):\n",
    "    mid = len(l) / 2\n",
    "    while True:\n",
    "        if not l:\n",
    "            return False\n",
    "        elif l[mid] < t:\n",
    "            l = l[mid:]\n",
    "            mid = len(l) / 2\n",
    "        elif l[mid] > t:\n",
    "            l = l[:mid]\n",
    "            mid = len(l) / 2\n",
    "        else:\n",
    "            # Target found!\n",
    "            return l[mid]\n",
    "        "
   ]
  },
  {
   "cell_type": "code",
   "execution_count": 33,
   "metadata": {
    "collapsed": false
   },
   "outputs": [
    {
     "name": "stdout",
     "output_type": "stream",
     "text": [
      "True 13\n",
      "True 14\n",
      "True 38\n",
      "True 39\n",
      "True 49\n",
      "True 58\n",
      "True 60\n",
      "True 89\n",
      "True 128\n",
      "True 140\n",
      "True 149\n",
      "True 158\n",
      "True 164\n",
      "True 173\n",
      "True 256\n",
      "True 323\n",
      "True 327\n",
      "True 341\n",
      "True 344\n",
      "True 359\n",
      "True 395\n",
      "True 440\n",
      "True 441\n",
      "True 453\n",
      "True 455\n",
      "True 488\n",
      "True 533\n",
      "True 538\n",
      "True 633\n",
      "True 646\n",
      "True 652\n",
      "True 668\n",
      "True 691\n",
      "True 694\n",
      "True 750\n",
      "True 770\n",
      "True 786\n",
      "True 791\n",
      "True 799\n",
      "True 802\n",
      "True 811\n",
      "True 818\n",
      "True 828\n",
      "True 829\n",
      "True 852\n",
      "True 923\n",
      "True 975\n",
      "True 990\n",
      "True 995\n",
      "True 997\n"
     ]
    }
   ],
   "source": [
    "for i in a:\n",
    "    if bsearchi(i, a) == None:\n",
    "        print False, i\n",
    "    else:\n",
    "        print True, i"
   ]
  },
  {
   "cell_type": "markdown",
   "metadata": {},
   "source": [
    "## String character reversal"
   ]
  },
  {
   "cell_type": "code",
   "execution_count": 66,
   "metadata": {
    "collapsed": true
   },
   "outputs": [],
   "source": [
    "st = \"Christopher\""
   ]
  },
  {
   "cell_type": "code",
   "execution_count": 73,
   "metadata": {
    "collapsed": false
   },
   "outputs": [],
   "source": [
    "lst = list(st)"
   ]
  },
  {
   "cell_type": "code",
   "execution_count": 77,
   "metadata": {
    "collapsed": false
   },
   "outputs": [
    {
     "data": {
      "text/plain": [
       "['r', 'e', 'h', 'p', 'o', 't', 's', 'i', 'r', 'h', 'C']"
      ]
     },
     "execution_count": 77,
     "metadata": {},
     "output_type": "execute_result"
    }
   ],
   "source": [
    "lst.reverse()\n",
    "lst"
   ]
  },
  {
   "cell_type": "code",
   "execution_count": 78,
   "metadata": {
    "collapsed": false
   },
   "outputs": [
    {
     "data": {
      "text/plain": [
       "5"
      ]
     },
     "execution_count": 78,
     "metadata": {},
     "output_type": "execute_result"
    }
   ],
   "source": [
    "len(st) / 2"
   ]
  },
  {
   "cell_type": "code",
   "execution_count": 79,
   "metadata": {
    "collapsed": false
   },
   "outputs": [
    {
     "data": {
      "text/plain": [
       "11"
      ]
     },
     "execution_count": 79,
     "metadata": {},
     "output_type": "execute_result"
    }
   ],
   "source": [
    "len(st)"
   ]
  },
  {
   "cell_type": "code",
   "execution_count": 80,
   "metadata": {
    "collapsed": false
   },
   "outputs": [
    {
     "data": {
      "text/plain": [
       "1"
      ]
     },
     "execution_count": 80,
     "metadata": {},
     "output_type": "execute_result"
    }
   ],
   "source": [
    "len (st) % 2"
   ]
  },
  {
   "cell_type": "code",
   "execution_count": 81,
   "metadata": {
    "collapsed": true
   },
   "outputs": [],
   "source": [
    "st2 = \"Christopher1\""
   ]
  },
  {
   "cell_type": "code",
   "execution_count": 82,
   "metadata": {
    "collapsed": false,
    "scrolled": true
   },
   "outputs": [
    {
     "data": {
      "text/plain": [
       "6"
      ]
     },
     "execution_count": 82,
     "metadata": {},
     "output_type": "execute_result"
    }
   ],
   "source": [
    "len(st2) / 2"
   ]
  },
  {
   "cell_type": "code",
   "execution_count": 83,
   "metadata": {
    "collapsed": false
   },
   "outputs": [
    {
     "data": {
      "text/plain": [
       "['r', 'e', 'h', 'p', 'o', 't', 's', 'i', 'r', 'h', 'C']"
      ]
     },
     "execution_count": 83,
     "metadata": {},
     "output_type": "execute_result"
    }
   ],
   "source": [
    "lst"
   ]
  },
  {
   "cell_type": "code",
   "execution_count": 84,
   "metadata": {
    "collapsed": false
   },
   "outputs": [
    {
     "data": {
      "text/plain": [
       "\"['r', 'e', 'h', 'p', 'o', 't', 's', 'i', 'r', 'h', 'C']\""
      ]
     },
     "execution_count": 84,
     "metadata": {},
     "output_type": "execute_result"
    }
   ],
   "source": [
    "str(lst)"
   ]
  },
  {
   "cell_type": "code",
   "execution_count": 85,
   "metadata": {
    "collapsed": false
   },
   "outputs": [
    {
     "data": {
      "text/plain": [
       "'rehpotsirhC'"
      ]
     },
     "execution_count": 85,
     "metadata": {},
     "output_type": "execute_result"
    }
   ],
   "source": [
    "''.join(lst)"
   ]
  },
  {
   "cell_type": "markdown",
   "metadata": {},
   "source": [
    "## Bigrams generator"
   ]
  },
  {
   "cell_type": "code",
   "execution_count": 34,
   "metadata": {
    "collapsed": true
   },
   "outputs": [],
   "source": [
    "def bigrams1(l):\n",
    "    for i in xrange(len(l) - 1):\n",
    "        yield l[i], l[i + 1]"
   ]
  },
  {
   "cell_type": "code",
   "execution_count": 35,
   "metadata": {
    "collapsed": false
   },
   "outputs": [
    {
     "data": {
      "text/plain": [
       "[('Nankai', 'megathrust'),\n",
       " ('megathrust', 'earthquakes'),\n",
       " ('earthquakes', 'are'),\n",
       " ('are', 'great'),\n",
       " ('great', 'megathrust'),\n",
       " ('megathrust', 'earthquakes'),\n",
       " ('earthquakes', 'that'),\n",
       " ('that', 'occur'),\n",
       " ('occur', 'along'),\n",
       " ('along', 'the'),\n",
       " ('the', 'Nankai'),\n",
       " ('Nankai', 'megathrust')]"
      ]
     },
     "execution_count": 35,
     "metadata": {},
     "output_type": "execute_result"
    }
   ],
   "source": [
    "text = \"Nankai megathrust earthquakes are great megathrust earthquakes that occur along the Nankai megathrust\".split(' ')\n",
    "list(bigrams1(text))"
   ]
  },
  {
   "cell_type": "markdown",
   "metadata": {
    "collapsed": true
   },
   "source": [
    "## FizzBuzz test"
   ]
  },
  {
   "cell_type": "code",
   "execution_count": 36,
   "metadata": {
    "collapsed": true
   },
   "outputs": [],
   "source": [
    "def fizzbuzz1(limit):\n",
    "    for i in xrange(1, limit + 1):\n",
    "        if i % 3 == 0 and i % 5 == 0:\n",
    "            print \"FizzBuzz\"\n",
    "        elif i % 3 == 0:\n",
    "            print \"Fizz\"\n",
    "        elif i % 5 == 0:\n",
    "            print \"Buzz\"\n",
    "        else:\n",
    "            print i"
   ]
  },
  {
   "cell_type": "code",
   "execution_count": 37,
   "metadata": {
    "collapsed": false
   },
   "outputs": [
    {
     "name": "stdout",
     "output_type": "stream",
     "text": [
      "1\n",
      "2\n",
      "Fizz\n",
      "4\n",
      "Buzz\n",
      "Fizz\n",
      "7\n",
      "8\n",
      "Fizz\n",
      "Buzz\n",
      "11\n",
      "Fizz\n",
      "13\n",
      "14\n",
      "FizzBuzz\n",
      "16\n",
      "17\n",
      "Fizz\n",
      "19\n",
      "Buzz\n",
      "Fizz\n",
      "22\n",
      "23\n",
      "Fizz\n",
      "Buzz\n",
      "26\n",
      "Fizz\n",
      "28\n",
      "29\n",
      "FizzBuzz\n",
      "31\n",
      "32\n",
      "Fizz\n",
      "34\n",
      "Buzz\n"
     ]
    }
   ],
   "source": [
    "fizzbuzz1(35)"
   ]
  },
  {
   "cell_type": "markdown",
   "metadata": {},
   "source": [
    "#### There is nothing wrong with nested or deep test structures, but heres another way..."
   ]
  },
  {
   "cell_type": "code",
   "execution_count": 107,
   "metadata": {
    "collapsed": true
   },
   "outputs": [],
   "source": [
    "def fizzbuzz2(limit):\n",
    "    for i in xrange(1, limit + 1):\n",
    "        text = \"\"\n",
    "        text += \"Fizz\" if i % 3 == 0 else \"\"\n",
    "        text += \"Buzz\" if i % 5 == 0 else \"\"\n",
    "        if text:\n",
    "            print text\n",
    "        else:\n",
    "            print i"
   ]
  },
  {
   "cell_type": "code",
   "execution_count": 108,
   "metadata": {
    "collapsed": false
   },
   "outputs": [
    {
     "name": "stdout",
     "output_type": "stream",
     "text": [
      "1\n",
      "2\n",
      "Fizz\n",
      "4\n",
      "Buzz\n",
      "Fizz\n",
      "7\n",
      "8\n",
      "Fizz\n",
      "Buzz\n",
      "11\n",
      "Fizz\n",
      "13\n",
      "14\n",
      "FizzBuzz\n",
      "16\n",
      "17\n",
      "Fizz\n",
      "19\n",
      "Buzz\n",
      "Fizz\n",
      "22\n",
      "23\n",
      "Fizz\n",
      "Buzz\n",
      "26\n",
      "Fizz\n",
      "28\n",
      "29\n",
      "FizzBuzz\n",
      "31\n",
      "32\n",
      "Fizz\n",
      "34\n",
      "Buzz\n"
     ]
    }
   ],
   "source": [
    "fizzbuzz2(35)"
   ]
  },
  {
   "cell_type": "markdown",
   "metadata": {},
   "source": [
    "## Conway's fantastic game of life"
   ]
  },
  {
   "cell_type": "markdown",
   "metadata": {},
   "source": [
    "There is just no simple way of iterating over neighbours, hardcoding the position deltas is fine!"
   ]
  },
  {
   "cell_type": "code",
   "execution_count": 109,
   "metadata": {
    "collapsed": true
   },
   "outputs": [],
   "source": [
    "def neibours(point):\n",
    "    x, y = point\n",
    "    yield x - 1, y - 1\n",
    "    yield x, y - 1\n",
    "    yield x + 1, y - 1\n",
    "    yield x + 1, y,\n",
    "    yield x + 1, y + 1\n",
    "    yield x, y + 1\n",
    "    yield x - 1, y + 1\n",
    "    yield x - 1, y"
   ]
  },
  {
   "cell_type": "code",
   "execution_count": 183,
   "metadata": {
    "collapsed": false
   },
   "outputs": [],
   "source": [
    "def iterate(board):\n",
    "    new_board = dict()\n",
    "    for point, active in board.items():\n",
    "        # Count the number of neibours in the board which are set to True (active)\n",
    "        active_neibours = len(filter(lambda x: x in board and board[x], neibours(point)))\n",
    "        \n",
    "        # Game rules\n",
    "        if active_neibours == 3 or (active_neibours == 2 and point in board):\n",
    "            new_board[point] = True\n",
    "        else:\n",
    "            new_board[point] = False\n",
    "    \n",
    "    return new_board"
   ]
  },
  {
   "cell_type": "markdown",
   "metadata": {},
   "source": [
    "We will now try and visualise the iterations using numpy ndarrays and matplotlib"
   ]
  },
  {
   "cell_type": "code",
   "execution_count": 184,
   "metadata": {
    "collapsed": false
   },
   "outputs": [],
   "source": [
    "import numpy as np\n",
    "import matplotlib.pyplot as plt\n",
    "%matplotlib inline"
   ]
  },
  {
   "cell_type": "markdown",
   "metadata": {},
   "source": [
    "We have to convert between our dictionary format and numpy's ndarray so we can visualise it with matplotlib"
   ]
  },
  {
   "cell_type": "code",
   "execution_count": 185,
   "metadata": {
    "collapsed": false
   },
   "outputs": [],
   "source": [
    "def board_to_ndarray(board):\n",
    "    return np.asarray(map(int, map(lambda x: x[1], sorted(b.items())))).reshape((3,3))"
   ]
  },
  {
   "cell_type": "markdown",
   "metadata": {},
   "source": [
    "Plot our glider's grid using `imshow`. `interpolation='nearest'` is needed to prevent smoothing (`imshow` is often used for heatmaps)."
   ]
  },
  {
   "cell_type": "code",
   "execution_count": 186,
   "metadata": {
    "collapsed": false
   },
   "outputs": [],
   "source": [
    "def img(mat):\n",
    "    plt.imshow(mat, interpolation='nearest')\n",
    "    plt.show()"
   ]
  },
  {
   "cell_type": "markdown",
   "metadata": {},
   "source": [
    "Here `b` is the initial state of our glider"
   ]
  },
  {
   "cell_type": "code",
   "execution_count": 188,
   "metadata": {
    "collapsed": false
   },
   "outputs": [
    {
     "data": {
      "image/png": "[encoded data removed]",
      "text/plain": [
       "<matplotlib.figure.Figure at 0x1073a0610>"
      ]
     },
     "metadata": {},
     "output_type": "display_data"
    },
    {
     "data": {
      "image/png": "[encoded data removed]",
      "text/plain": [
       "<matplotlib.figure.Figure at 0x10717cc50>"
      ]
     },
     "metadata": {},
     "output_type": "display_data"
    },
    {
     "data": {
      "image/png": "[encoded data removed]",
      "text/plain": [
       "<matplotlib.figure.Figure at 0x10deeb350>"
      ]
     },
     "metadata": {},
     "output_type": "display_data"
    },
    {
     "data": {
      "image/png": "[encoded data removed]",
      "text/plain": [
       "<matplotlib.figure.Figure at 0x10bd0f210>"
      ]
     },
     "metadata": {},
     "output_type": "display_data"
    },
    {
     "data": {
      "image/png": "[encoded data removed]",
      "text/plain": [
       "<matplotlib.figure.Figure at 0x10e472bd0>"
      ]
     },
     "metadata": {},
     "output_type": "display_data"
    },
    {
     "data": {
      "image/png": "[encoded data removed]",
      "text/plain": [
       "<matplotlib.figure.Figure at 0x10e168f50>"
      ]
     },
     "metadata": {},
     "output_type": "display_data"
    },
    {
     "data": {
      "image/png": "[encoded data removed]",
      "text/plain": [
       "<matplotlib.figure.Figure at 0x10e90f1d0>"
      ]
     },
     "metadata": {},
     "output_type": "display_data"
    },
    {
     "data": {
      "image/png": "[encoded data removed]",
      "text/plain": [
       "<matplotlib.figure.Figure at 0x10eaacc90>"
      ]
     },
     "metadata": {},
     "output_type": "display_data"
    },
    {
     "data": {
      "image/png": "[encoded data removed]",
      "text/plain": [
       "<matplotlib.figure.Figure at 0x10f2ece90>"
      ]
     },
     "metadata": {},
     "output_type": "display_data"
    },
    {
     "data": {
      "image/png": "[encoded data removed]",
      "text/plain": [
       "<matplotlib.figure.Figure at 0x10be77b10>"
      ]
     },
     "metadata": {},
     "output_type": "display_data"
    },
    {
     "data": {
      "image/png": "[encoded data removed]",
      "text/plain": [
       "<matplotlib.figure.Figure at 0x10e7b8910>"
      ]
     },
     "metadata": {},
     "output_type": "display_data"
    }
   ],
   "source": [
    "b = {\n",
    "    (0, 0): True, (0, 1): True, (0, 2): False,\n",
    "    (1, 0): True, (1, 1): False, (1, 2): True,\n",
    "    (2, 0): True, (2, 1): False, (2, 2): False,\n",
    "}\n",
    "img(board_to_ndarray(b))\n",
    "for i in xrange(10):\n",
    "    b = iterate(b)\n",
    "    img(board_to_ndarray(b))"
   ]
  },
  {
   "cell_type": "markdown",
   "metadata": {},
   "source": [
    "## Palindrone checker"
   ]
  },
  {
   "cell_type": "markdown",
   "metadata": {},
   "source": [
    "O(n)"
   ]
  },
  {
   "cell_type": "code",
   "execution_count": 189,
   "metadata": {
    "collapsed": true
   },
   "outputs": [],
   "source": [
    "p1 = \"hannah\""
   ]
  },
  {
   "cell_type": "code",
   "execution_count": 200,
   "metadata": {
    "collapsed": false
   },
   "outputs": [],
   "source": [
    "def is_palindrone(string):\n",
    "    i = 0\n",
    "    j = len(string) - 1\n",
    "    for _ in xrange(len(string)):\n",
    "        if string[i] != string[j]:\n",
    "            return False\n",
    "    return True"
   ]
  },
  {
   "cell_type": "code",
   "execution_count": 201,
   "metadata": {
    "collapsed": false
   },
   "outputs": [
    {
     "data": {
      "text/plain": [
       "True"
      ]
     },
     "execution_count": 201,
     "metadata": {},
     "output_type": "execute_result"
    }
   ],
   "source": [
    "is_palindrone(p1)"
   ]
  },
  {
   "cell_type": "code",
   "execution_count": 204,
   "metadata": {
    "collapsed": false
   },
   "outputs": [
    {
     "data": {
      "text/plain": [
       "False"
      ]
     },
     "execution_count": 204,
     "metadata": {},
     "output_type": "execute_result"
    }
   ],
   "source": [
    "is_palindrone(\"Chris\")"
   ]
  },
  {
   "cell_type": "markdown",
   "metadata": {},
   "source": [
    "O(0.5n)"
   ]
  },
  {
   "cell_type": "code",
   "execution_count": null,
   "metadata": {
    "collapsed": true
   },
   "outputs": [],
   "source": [
    "def is_palindrone2(string):\n",
    "    i = 0\n",
    "    j = len(string) - 1\n",
    "    for _ in xrange(len(string)):\n",
    "        if i > j:\n",
    "            break\n",
    "        if string[i] != string[j]:\n",
    "            return False\n",
    "    return True"
   ]
  }
 ],
 "metadata": {
  "kernelspec": {
   "display_name": "Python 2",
   "language": "python",
   "name": "python2"
  },
  "language_info": {
   "codemirror_mode": {
    "name": "ipython",
    "version": 2
   },
   "file_extension": ".py",
   "mimetype": "text/x-python",
   "name": "python",
   "nbconvert_exporter": "python",
   "pygments_lexer": "ipython2",
   "version": "2.7.10"
  }
 },
 "nbformat": 4,
 "nbformat_minor": 0
}
